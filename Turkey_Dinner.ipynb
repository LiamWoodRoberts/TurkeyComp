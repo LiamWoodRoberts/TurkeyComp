{
 "cells": [
  {
   "cell_type": "markdown",
   "metadata": {},
   "source": [
    "# Turkey Sound Binary Classifier\n",
    "Available at: https://www.kaggle.com/c/dont-call-me-turkey/"
   ]
  },
  {
   "cell_type": "code",
   "execution_count": 62,
   "metadata": {},
   "outputs": [],
   "source": [
    "import keras\n",
    "from keras.models import Sequential\n",
    "from keras.layers import Dense, Bidirectional, LSTM, BatchNormalization, Dropout\n",
    "from keras.callbacks import EarlyStopping\n",
    "from sklearn.ensemble import RandomForestClassifier\n",
    "import numpy as np\n",
    "import pandas as pd\n",
    "import matplotlib.pyplot as plt\n",
    "from sklearn.model_selection import train_test_split\n",
    "from keras.applications import MobileNetV2\n",
    "import skimage.transform\n",
    "%matplotlib inline"
   ]
  },
  {
   "cell_type": "code",
   "execution_count": 63,
   "metadata": {},
   "outputs": [
    {
     "data": {
      "text/html": [
       "<div>\n",
       "<style scoped>\n",
       "    .dataframe tbody tr th:only-of-type {\n",
       "        vertical-align: middle;\n",
       "    }\n",
       "\n",
       "    .dataframe tbody tr th {\n",
       "        vertical-align: top;\n",
       "    }\n",
       "\n",
       "    .dataframe thead th {\n",
       "        text-align: right;\n",
       "    }\n",
       "</style>\n",
       "<table border=\"1\" class=\"dataframe\">\n",
       "  <thead>\n",
       "    <tr style=\"text-align: right;\">\n",
       "      <th></th>\n",
       "      <th>audio_embedding</th>\n",
       "      <th>end_time_seconds_youtube_clip</th>\n",
       "      <th>is_turkey</th>\n",
       "      <th>start_time_seconds_youtube_clip</th>\n",
       "      <th>vid_id</th>\n",
       "    </tr>\n",
       "  </thead>\n",
       "  <tbody>\n",
       "    <tr>\n",
       "      <th>0</th>\n",
       "      <td>[[172, 34, 216, 110, 208, 46, 95, 66, 161, 125...</td>\n",
       "      <td>70</td>\n",
       "      <td>0</td>\n",
       "      <td>60</td>\n",
       "      <td>kDCk3hLIVXo</td>\n",
       "    </tr>\n",
       "    <tr>\n",
       "      <th>1</th>\n",
       "      <td>[[169, 20, 165, 102, 205, 62, 110, 103, 211, 1...</td>\n",
       "      <td>40</td>\n",
       "      <td>1</td>\n",
       "      <td>30</td>\n",
       "      <td>DPcGzqHoo7Y</td>\n",
       "    </tr>\n",
       "    <tr>\n",
       "      <th>2</th>\n",
       "      <td>[[148, 8, 138, 60, 237, 48, 121, 108, 145, 177...</td>\n",
       "      <td>240</td>\n",
       "      <td>1</td>\n",
       "      <td>230</td>\n",
       "      <td>7yM63MTHh5k</td>\n",
       "    </tr>\n",
       "  </tbody>\n",
       "</table>\n",
       "</div>"
      ],
      "text/plain": [
       "                                     audio_embedding  \\\n",
       "0  [[172, 34, 216, 110, 208, 46, 95, 66, 161, 125...   \n",
       "1  [[169, 20, 165, 102, 205, 62, 110, 103, 211, 1...   \n",
       "2  [[148, 8, 138, 60, 237, 48, 121, 108, 145, 177...   \n",
       "\n",
       "   end_time_seconds_youtube_clip  is_turkey  start_time_seconds_youtube_clip  \\\n",
       "0                             70          0                               60   \n",
       "1                             40          1                               30   \n",
       "2                            240          1                              230   \n",
       "\n",
       "        vid_id  \n",
       "0  kDCk3hLIVXo  \n",
       "1  DPcGzqHoo7Y  \n",
       "2  7yM63MTHh5k  "
      ]
     },
     "execution_count": 63,
     "metadata": {},
     "output_type": "execute_result"
    }
   ],
   "source": [
    "df = pd.read_json(\"train.json\")\n",
    "df.head(3)"
   ]
  },
  {
   "cell_type": "code",
   "execution_count": 91,
   "metadata": {},
   "outputs": [],
   "source": [
    "def load_dataset(path):\n",
    "    df = pd.read_json(path)\n",
    "    y = df.is_turkey.values\n",
    "    X = embedder(df)\n",
    "    return X,y\n",
    "\n",
    "def embedder(df):\n",
    "    embeddings = []\n",
    "    for embedding in df['audio_embedding']:\n",
    "        embedding = np.asarray(embedding)\n",
    "        l = embedding.shape[0]\n",
    "        not_ten_sec = (l != 10)\n",
    "        if not_ten_sec:\n",
    "            embedding = np.pad(embedding,((0,10-l),(0,0)),mode = 'constant')  \n",
    "        embeddings.append(embedding)\n",
    "    return np.asarray(embeddings)\n",
    "\n",
    "X,y = load_dataset('train.json')\n",
    "val = pd.read_json('test.json')\n",
    "X_val = embedder(val)\n",
    "\n",
    "X_train, X_test, y_train, y_test = train_test_split(X, y, test_size=0.1, random_state=42)"
   ]
  },
  {
   "cell_type": "code",
   "execution_count": 94,
   "metadata": {},
   "outputs": [
    {
     "name": "stdout",
     "output_type": "stream",
     "text": [
      "_________________________________________________________________\n",
      "Layer (type)                 Output Shape              Param #   \n",
      "=================================================================\n",
      "batch_normalization_21 (Batc (None, 10, 128)           512       \n",
      "_________________________________________________________________\n",
      "dropout_21 (Dropout)         (None, 10, 128)           0         \n",
      "_________________________________________________________________\n",
      "bidirectional_19 (Bidirectio (None, 256)               263168    \n",
      "_________________________________________________________________\n",
      "dense_32 (Dense)             (None, 1)                 257       \n",
      "=================================================================\n",
      "Total params: 263,937\n",
      "Trainable params: 263,681\n",
      "Non-trainable params: 256\n",
      "_________________________________________________________________\n"
     ]
    }
   ],
   "source": [
    "#Create Keras Model\n",
    "model = Sequential()\n",
    "model.add(BatchNormalization(input_shape=(10, 128)))\n",
    "model.add(Dropout(0.4))\n",
    "model.add(Bidirectional(LSTM(128,recurrent_dropout=0.4,activation='relu')))\n",
    "model.add(Dense(1,activation='sigmoid'))\n",
    "model.summary()"
   ]
  },
  {
   "cell_type": "code",
   "execution_count": 95,
   "metadata": {},
   "outputs": [
    {
     "name": "stdout",
     "output_type": "stream",
     "text": [
      "Train on 1075 samples, validate on 120 samples\n",
      "Epoch 1/100\n",
      "1075/1075 [==============================] - 11s 10ms/step - loss: 0.5152 - acc: 0.7460 - val_loss: 0.2963 - val_acc: 0.8750\n",
      "Epoch 2/100\n",
      "1075/1075 [==============================] - 1s 763us/step - loss: 0.1901 - acc: 0.9256 - val_loss: 0.2291 - val_acc: 0.8917\n",
      "Epoch 3/100\n",
      "1075/1075 [==============================] - 1s 756us/step - loss: 0.1498 - acc: 0.9460 - val_loss: 0.2231 - val_acc: 0.9250\n",
      "Epoch 4/100\n",
      "1075/1075 [==============================] - 1s 1ms/step - loss: 0.1277 - acc: 0.9479 - val_loss: 0.2284 - val_acc: 0.9000\n",
      "Epoch 5/100\n",
      "1075/1075 [==============================] - 1s 912us/step - loss: 0.1187 - acc: 0.9553 - val_loss: 0.2235 - val_acc: 0.9083\n",
      "Epoch 6/100\n",
      "1075/1075 [==============================] - 1s 865us/step - loss: 0.1052 - acc: 0.9619 - val_loss: 0.2216 - val_acc: 0.9083\n",
      "Epoch 7/100\n",
      "1075/1075 [==============================] - 1s 929us/step - loss: 0.0888 - acc: 0.9619 - val_loss: 0.2299 - val_acc: 0.9167\n",
      "Epoch 8/100\n",
      "1075/1075 [==============================] - 1s 795us/step - loss: 0.0897 - acc: 0.9628 - val_loss: 0.2338 - val_acc: 0.9167\n",
      "Epoch 9/100\n",
      "1075/1075 [==============================] - 1s 842us/step - loss: 0.0737 - acc: 0.9758 - val_loss: 0.2430 - val_acc: 0.9250\n",
      "Epoch 10/100\n",
      "1075/1075 [==============================] - 1s 900us/step - loss: 0.0690 - acc: 0.9767 - val_loss: 0.2613 - val_acc: 0.9167\n",
      "Epoch 11/100\n",
      "1075/1075 [==============================] - 1s 797us/step - loss: 0.0609 - acc: 0.9767 - val_loss: 0.2831 - val_acc: 0.9333\n",
      "Epoch 00011: early stopping\n"
     ]
    },
    {
     "data": {
      "text/plain": [
       "<keras.callbacks.History at 0x1c829ed748>"
      ]
     },
     "execution_count": 95,
     "metadata": {},
     "output_type": "execute_result"
    }
   ],
   "source": [
    "early_stop = EarlyStopping(monitor='val_loss', \n",
    "                           min_delta=0.00001, \n",
    "                           patience=5, \n",
    "                           mode='min', \n",
    "                           verbose=1)\n",
    "\n",
    "model.compile(loss='binary_crossentropy',\n",
    "              optimizer='adam',\n",
    "              metrics=['accuracy'])\n",
    "\n",
    "model.fit(X_train, y_train,\n",
    "          epochs=100, \n",
    "          batch_size = 256,\n",
    "          validation_data=(X_test, y_test),\n",
    "          callbacks=[early_stop]\n",
    "         )"
   ]
  },
  {
   "cell_type": "code",
   "execution_count": 96,
   "metadata": {},
   "outputs": [
    {
     "data": {
      "text/html": [
       "<div>\n",
       "<style scoped>\n",
       "    .dataframe tbody tr th:only-of-type {\n",
       "        vertical-align: middle;\n",
       "    }\n",
       "\n",
       "    .dataframe tbody tr th {\n",
       "        vertical-align: top;\n",
       "    }\n",
       "\n",
       "    .dataframe thead th {\n",
       "        text-align: right;\n",
       "    }\n",
       "</style>\n",
       "<table border=\"1\" class=\"dataframe\">\n",
       "  <thead>\n",
       "    <tr style=\"text-align: right;\">\n",
       "      <th></th>\n",
       "      <th>audio_embedding</th>\n",
       "      <th>end_time_seconds_youtube_clip</th>\n",
       "      <th>start_time_seconds_youtube_clip</th>\n",
       "      <th>vid_id</th>\n",
       "      <th>is_turkey</th>\n",
       "    </tr>\n",
       "  </thead>\n",
       "  <tbody>\n",
       "    <tr>\n",
       "      <th>0</th>\n",
       "      <td>[[177, 20, 226, 132, 198, 81, 111, 59, 132, 18...</td>\n",
       "      <td>10</td>\n",
       "      <td>0</td>\n",
       "      <td>pyKh38FXD3E</td>\n",
       "      <td>0</td>\n",
       "    </tr>\n",
       "    <tr>\n",
       "      <th>1</th>\n",
       "      <td>[[169, 21, 204, 161, 195, 72, 60, 39, 152, 184...</td>\n",
       "      <td>40</td>\n",
       "      <td>30</td>\n",
       "      <td>THhP1idrWXA</td>\n",
       "      <td>0</td>\n",
       "    </tr>\n",
       "    <tr>\n",
       "      <th>2</th>\n",
       "      <td>[[165, 13, 198, 141, 199, 81, 173, 54, 119, 11...</td>\n",
       "      <td>40</td>\n",
       "      <td>30</td>\n",
       "      <td>jsw3T6GY2Nw</td>\n",
       "      <td>0</td>\n",
       "    </tr>\n",
       "    <tr>\n",
       "      <th>3</th>\n",
       "      <td>[[167, 18, 188, 159, 198, 63, 156, 36, 179, 22...</td>\n",
       "      <td>24</td>\n",
       "      <td>14</td>\n",
       "      <td>nFkXTMHcjMU</td>\n",
       "      <td>0</td>\n",
       "    </tr>\n",
       "    <tr>\n",
       "      <th>4</th>\n",
       "      <td>[[178, 32, 181, 100, 198, 46, 82, 83, 136, 227...</td>\n",
       "      <td>40</td>\n",
       "      <td>30</td>\n",
       "      <td>Au8g9kAlrLQ</td>\n",
       "      <td>1</td>\n",
       "    </tr>\n",
       "  </tbody>\n",
       "</table>\n",
       "</div>"
      ],
      "text/plain": [
       "                                     audio_embedding  \\\n",
       "0  [[177, 20, 226, 132, 198, 81, 111, 59, 132, 18...   \n",
       "1  [[169, 21, 204, 161, 195, 72, 60, 39, 152, 184...   \n",
       "2  [[165, 13, 198, 141, 199, 81, 173, 54, 119, 11...   \n",
       "3  [[167, 18, 188, 159, 198, 63, 156, 36, 179, 22...   \n",
       "4  [[178, 32, 181, 100, 198, 46, 82, 83, 136, 227...   \n",
       "\n",
       "   end_time_seconds_youtube_clip  start_time_seconds_youtube_clip  \\\n",
       "0                             10                                0   \n",
       "1                             40                               30   \n",
       "2                             40                               30   \n",
       "3                             24                               14   \n",
       "4                             40                               30   \n",
       "\n",
       "        vid_id  is_turkey  \n",
       "0  pyKh38FXD3E          0  \n",
       "1  THhP1idrWXA          0  \n",
       "2  jsw3T6GY2Nw          0  \n",
       "3  nFkXTMHcjMU          0  \n",
       "4  Au8g9kAlrLQ          1  "
      ]
     },
     "execution_count": 96,
     "metadata": {},
     "output_type": "execute_result"
    }
   ],
   "source": [
    "preds = model.predict_classes(X_val)\n",
    "val['is_turkey'] = preds\n",
    "val.head()"
   ]
  },
  {
   "cell_type": "code",
   "execution_count": 97,
   "metadata": {},
   "outputs": [],
   "source": [
    "sub = val[['vid_id','is_turkey']].copy()\n",
    "sub.set_index('vid_id',inplace = True)"
   ]
  },
  {
   "cell_type": "code",
   "execution_count": 98,
   "metadata": {},
   "outputs": [],
   "source": [
    "sub.to_csv('TurkeySub.csv')"
   ]
  },
  {
   "cell_type": "code",
   "execution_count": null,
   "metadata": {},
   "outputs": [],
   "source": []
  }
 ],
 "metadata": {
  "kernelspec": {
   "display_name": "Python [conda env:kerasenv]",
   "language": "python",
   "name": "conda-env-kerasenv-py"
  }
 },
 "nbformat": 4,
 "nbformat_minor": 2
}
