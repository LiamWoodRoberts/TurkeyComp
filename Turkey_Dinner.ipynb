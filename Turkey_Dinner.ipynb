{
 "cells": [
  {
   "cell_type": "markdown",
   "metadata": {},
   "source": [
    "# Turkey Sound Binary Classifier\n",
    "Available at: https://www.kaggle.com/c/dont-call-me-turkey/"
   ]
  },
  {
   "cell_type": "code",
   "execution_count": 83,
   "metadata": {},
   "outputs": [],
   "source": [
    "import keras\n",
    "from keras.models import Sequential\n",
    "from keras.layers import Dense, Bidirectional, LSTM, BatchNormalization, Dropout\n",
    "from keras.callbacks import EarlyStopping\n",
    "import numpy as np\n",
    "import pandas as pd\n",
    "import matplotlib.pyplot as plt\n",
    "from sklearn.model_selection import train_test_split\n",
    "%matplotlib inline"
   ]
  },
  {
   "cell_type": "code",
   "execution_count": 84,
   "metadata": {},
   "outputs": [
    {
     "data": {
      "text/html": [
       "<div>\n",
       "<style scoped>\n",
       "    .dataframe tbody tr th:only-of-type {\n",
       "        vertical-align: middle;\n",
       "    }\n",
       "\n",
       "    .dataframe tbody tr th {\n",
       "        vertical-align: top;\n",
       "    }\n",
       "\n",
       "    .dataframe thead th {\n",
       "        text-align: right;\n",
       "    }\n",
       "</style>\n",
       "<table border=\"1\" class=\"dataframe\">\n",
       "  <thead>\n",
       "    <tr style=\"text-align: right;\">\n",
       "      <th></th>\n",
       "      <th>audio_embedding</th>\n",
       "      <th>end_time_seconds_youtube_clip</th>\n",
       "      <th>is_turkey</th>\n",
       "      <th>start_time_seconds_youtube_clip</th>\n",
       "      <th>vid_id</th>\n",
       "    </tr>\n",
       "  </thead>\n",
       "  <tbody>\n",
       "    <tr>\n",
       "      <th>0</th>\n",
       "      <td>[[172, 34, 216, 110, 208, 46, 95, 66, 161, 125...</td>\n",
       "      <td>70</td>\n",
       "      <td>0</td>\n",
       "      <td>60</td>\n",
       "      <td>kDCk3hLIVXo</td>\n",
       "    </tr>\n",
       "    <tr>\n",
       "      <th>1</th>\n",
       "      <td>[[169, 20, 165, 102, 205, 62, 110, 103, 211, 1...</td>\n",
       "      <td>40</td>\n",
       "      <td>1</td>\n",
       "      <td>30</td>\n",
       "      <td>DPcGzqHoo7Y</td>\n",
       "    </tr>\n",
       "    <tr>\n",
       "      <th>2</th>\n",
       "      <td>[[148, 8, 138, 60, 237, 48, 121, 108, 145, 177...</td>\n",
       "      <td>240</td>\n",
       "      <td>1</td>\n",
       "      <td>230</td>\n",
       "      <td>7yM63MTHh5k</td>\n",
       "    </tr>\n",
       "    <tr>\n",
       "      <th>3</th>\n",
       "      <td>[[151, 0, 162, 88, 171, 71, 47, 90, 179, 190, ...</td>\n",
       "      <td>520</td>\n",
       "      <td>1</td>\n",
       "      <td>510</td>\n",
       "      <td>luG3RmUAxxM</td>\n",
       "    </tr>\n",
       "    <tr>\n",
       "      <th>4</th>\n",
       "      <td>[[162, 17, 187, 111, 211, 105, 92, 67, 203, 15...</td>\n",
       "      <td>10</td>\n",
       "      <td>0</td>\n",
       "      <td>0</td>\n",
       "      <td>PIm3cjxTpOk</td>\n",
       "    </tr>\n",
       "  </tbody>\n",
       "</table>\n",
       "</div>"
      ],
      "text/plain": [
       "                                     audio_embedding  \\\n",
       "0  [[172, 34, 216, 110, 208, 46, 95, 66, 161, 125...   \n",
       "1  [[169, 20, 165, 102, 205, 62, 110, 103, 211, 1...   \n",
       "2  [[148, 8, 138, 60, 237, 48, 121, 108, 145, 177...   \n",
       "3  [[151, 0, 162, 88, 171, 71, 47, 90, 179, 190, ...   \n",
       "4  [[162, 17, 187, 111, 211, 105, 92, 67, 203, 15...   \n",
       "\n",
       "   end_time_seconds_youtube_clip  is_turkey  start_time_seconds_youtube_clip  \\\n",
       "0                             70          0                               60   \n",
       "1                             40          1                               30   \n",
       "2                            240          1                              230   \n",
       "3                            520          1                              510   \n",
       "4                             10          0                                0   \n",
       "\n",
       "        vid_id  \n",
       "0  kDCk3hLIVXo  \n",
       "1  DPcGzqHoo7Y  \n",
       "2  7yM63MTHh5k  \n",
       "3  luG3RmUAxxM  \n",
       "4  PIm3cjxTpOk  "
      ]
     },
     "execution_count": 84,
     "metadata": {},
     "output_type": "execute_result"
    }
   ],
   "source": [
    "df = pd.read_json(\"train.json\")\n",
    "df.head()"
   ]
  },
  {
   "cell_type": "code",
   "execution_count": 91,
   "metadata": {},
   "outputs": [],
   "source": [
    "def load_dataset(path):\n",
    "    df = pd.read_json(path)\n",
    "    y = df.is_turkey.values\n",
    "    X = embedder(df)\n",
    "    return X,y\n",
    "\n",
    "def embedder(df):\n",
    "    embeddings = []\n",
    "    for embedding in df['audio_embedding']:\n",
    "        embedding = np.asarray(embedding)\n",
    "        l = embedding.shape[0]\n",
    "        not_ten_sec = (l != 10)\n",
    "        if not_ten_sec:\n",
    "            embedding = np.pad(embedding,((0,10-l),(0,0)),mode = 'constant')  \n",
    "        embeddings.append(embedding)\n",
    "    return np.asarray(embeddings)\n",
    "\n",
    "X,y = load_dataset('train.json')\n",
    "val = pd.read_json('test.json')\n",
    "X_val = embedder(val)\n",
    "\n",
    "X_train, X_test, y_train, y_test = train_test_split(X, y, test_size=0.2, random_state=42)"
   ]
  },
  {
   "cell_type": "code",
   "execution_count": 92,
   "metadata": {},
   "outputs": [],
   "source": [
    "#Create Keras Model\n",
    "model = Sequential()\n",
    "model.add(BatchNormalization(input_shape=(10, 128)))\n",
    "model.add(Dropout(.5))\n",
    "model.add(Bidirectional(LSTM(128, activation='relu')))\n",
    "model.add(Dense(1, activation='sigmoid'))"
   ]
  },
  {
   "cell_type": "code",
   "execution_count": 93,
   "metadata": {},
   "outputs": [
    {
     "name": "stdout",
     "output_type": "stream",
     "text": [
      "Train on 956 samples, validate on 239 samples\n",
      "Epoch 1/100\n",
      "956/956 [==============================] - 5s 5ms/step - loss: 0.6075 - acc: 0.6705 - val_loss: 0.3271 - val_acc: 0.8703\n",
      "Epoch 2/100\n",
      "956/956 [==============================] - 1s 794us/step - loss: 0.2124 - acc: 0.9372 - val_loss: 0.2128 - val_acc: 0.8996\n",
      "Epoch 3/100\n",
      "956/956 [==============================] - 1s 969us/step - loss: 0.1605 - acc: 0.9467 - val_loss: 0.2020 - val_acc: 0.8996\n",
      "Epoch 4/100\n",
      "956/956 [==============================] - 1s 1ms/step - loss: 0.1296 - acc: 0.9498 - val_loss: 0.1911 - val_acc: 0.9163\n",
      "Epoch 5/100\n",
      "956/956 [==============================] - 1s 930us/step - loss: 0.1152 - acc: 0.9571 - val_loss: 0.1868 - val_acc: 0.9205\n",
      "Epoch 6/100\n",
      "956/956 [==============================] - 1s 961us/step - loss: 0.0946 - acc: 0.9655 - val_loss: 0.1872 - val_acc: 0.9163\n",
      "Epoch 7/100\n",
      "956/956 [==============================] - 1s 1ms/step - loss: 0.1071 - acc: 0.9603 - val_loss: 0.1908 - val_acc: 0.9163\n",
      "Epoch 8/100\n",
      "956/956 [==============================] - 1s 855us/step - loss: 0.1080 - acc: 0.9613 - val_loss: 0.1917 - val_acc: 0.9205\n",
      "Epoch 9/100\n",
      "956/956 [==============================] - 1s 1ms/step - loss: 0.0842 - acc: 0.9686 - val_loss: 0.1927 - val_acc: 0.9163\n",
      "Epoch 10/100\n",
      "956/956 [==============================] - 1s 908us/step - loss: 0.0713 - acc: 0.9728 - val_loss: 0.1912 - val_acc: 0.9289\n",
      "Epoch 00010: early stopping\n"
     ]
    },
    {
     "data": {
      "text/plain": [
       "<keras.callbacks.History at 0x12b2dfc18>"
      ]
     },
     "execution_count": 93,
     "metadata": {},
     "output_type": "execute_result"
    }
   ],
   "source": [
    "early_stop = EarlyStopping(monitor='val_loss', \n",
    "                           min_delta=0.0001, \n",
    "                           patience=5, \n",
    "                           mode='min', \n",
    "                           verbose=1)\n",
    "\n",
    "model.compile(loss='binary_crossentropy',\n",
    "              optimizer='adam',\n",
    "              metrics=['accuracy'])\n",
    "\n",
    "model.fit(X_train, y_train,\n",
    "          batch_size=300,\n",
    "          epochs=100,validation_data=(X_test, y_test),callbacks=[early_stop])"
   ]
  },
  {
   "cell_type": "code",
   "execution_count": 95,
   "metadata": {},
   "outputs": [
    {
     "data": {
      "text/html": [
       "<div>\n",
       "<style scoped>\n",
       "    .dataframe tbody tr th:only-of-type {\n",
       "        vertical-align: middle;\n",
       "    }\n",
       "\n",
       "    .dataframe tbody tr th {\n",
       "        vertical-align: top;\n",
       "    }\n",
       "\n",
       "    .dataframe thead th {\n",
       "        text-align: right;\n",
       "    }\n",
       "</style>\n",
       "<table border=\"1\" class=\"dataframe\">\n",
       "  <thead>\n",
       "    <tr style=\"text-align: right;\">\n",
       "      <th></th>\n",
       "      <th>audio_embedding</th>\n",
       "      <th>end_time_seconds_youtube_clip</th>\n",
       "      <th>start_time_seconds_youtube_clip</th>\n",
       "      <th>vid_id</th>\n",
       "      <th>preds</th>\n",
       "    </tr>\n",
       "  </thead>\n",
       "  <tbody>\n",
       "    <tr>\n",
       "      <th>0</th>\n",
       "      <td>[[177, 20, 226, 132, 198, 81, 111, 59, 132, 18...</td>\n",
       "      <td>10</td>\n",
       "      <td>0</td>\n",
       "      <td>pyKh38FXD3E</td>\n",
       "      <td>0</td>\n",
       "    </tr>\n",
       "    <tr>\n",
       "      <th>1</th>\n",
       "      <td>[[169, 21, 204, 161, 195, 72, 60, 39, 152, 184...</td>\n",
       "      <td>40</td>\n",
       "      <td>30</td>\n",
       "      <td>THhP1idrWXA</td>\n",
       "      <td>0</td>\n",
       "    </tr>\n",
       "    <tr>\n",
       "      <th>2</th>\n",
       "      <td>[[165, 13, 198, 141, 199, 81, 173, 54, 119, 11...</td>\n",
       "      <td>40</td>\n",
       "      <td>30</td>\n",
       "      <td>jsw3T6GY2Nw</td>\n",
       "      <td>0</td>\n",
       "    </tr>\n",
       "    <tr>\n",
       "      <th>3</th>\n",
       "      <td>[[167, 18, 188, 159, 198, 63, 156, 36, 179, 22...</td>\n",
       "      <td>24</td>\n",
       "      <td>14</td>\n",
       "      <td>nFkXTMHcjMU</td>\n",
       "      <td>0</td>\n",
       "    </tr>\n",
       "    <tr>\n",
       "      <th>4</th>\n",
       "      <td>[[178, 32, 181, 100, 198, 46, 82, 83, 136, 227...</td>\n",
       "      <td>40</td>\n",
       "      <td>30</td>\n",
       "      <td>Au8g9kAlrLQ</td>\n",
       "      <td>1</td>\n",
       "    </tr>\n",
       "  </tbody>\n",
       "</table>\n",
       "</div>"
      ],
      "text/plain": [
       "                                     audio_embedding  \\\n",
       "0  [[177, 20, 226, 132, 198, 81, 111, 59, 132, 18...   \n",
       "1  [[169, 21, 204, 161, 195, 72, 60, 39, 152, 184...   \n",
       "2  [[165, 13, 198, 141, 199, 81, 173, 54, 119, 11...   \n",
       "3  [[167, 18, 188, 159, 198, 63, 156, 36, 179, 22...   \n",
       "4  [[178, 32, 181, 100, 198, 46, 82, 83, 136, 227...   \n",
       "\n",
       "   end_time_seconds_youtube_clip  start_time_seconds_youtube_clip  \\\n",
       "0                             10                                0   \n",
       "1                             40                               30   \n",
       "2                             40                               30   \n",
       "3                             24                               14   \n",
       "4                             40                               30   \n",
       "\n",
       "        vid_id  preds  \n",
       "0  pyKh38FXD3E      0  \n",
       "1  THhP1idrWXA      0  \n",
       "2  jsw3T6GY2Nw      0  \n",
       "3  nFkXTMHcjMU      0  \n",
       "4  Au8g9kAlrLQ      1  "
      ]
     },
     "execution_count": 95,
     "metadata": {},
     "output_type": "execute_result"
    }
   ],
   "source": [
    "preds = model.predict_classes(X_val)\n",
    "val['preds'] = preds\n",
    "val.head()"
   ]
  },
  {
   "cell_type": "code",
   "execution_count": 97,
   "metadata": {},
   "outputs": [],
   "source": [
    "sub = val[['vid_id','preds']].copy()\n",
    "sub.set_index('vid_id',inplace = True)"
   ]
  },
  {
   "cell_type": "code",
   "execution_count": 99,
   "metadata": {},
   "outputs": [],
   "source": [
    "sub.to_csv('TurkeySub.csv')"
   ]
  },
  {
   "cell_type": "code",
   "execution_count": 8,
   "metadata": {},
   "outputs": [],
   "source": [
    "youtube_string = 'https://www.youtube.com/watch?v={}'"
   ]
  },
  {
   "cell_type": "code",
   "execution_count": 9,
   "metadata": {},
   "outputs": [
    {
     "data": {
      "text/plain": [
       "'https://www.youtube.com/watch?v=kDCk3hLIVXo'"
      ]
     },
     "execution_count": 9,
     "metadata": {},
     "output_type": "execute_result"
    }
   ],
   "source": []
  },
  {
   "cell_type": "code",
   "execution_count": null,
   "metadata": {},
   "outputs": [],
   "source": []
  }
 ],
 "metadata": {
  "kernelspec": {
   "display_name": "Python [conda env:kerasenv]",
   "language": "python",
   "name": "conda-env-kerasenv-py"
  },
  "language_info": {
   "codemirror_mode": {
    "name": "ipython",
    "version": 3
   },
   "file_extension": ".py",
   "mimetype": "text/x-python",
   "name": "python",
   "nbconvert_exporter": "python",
   "pygments_lexer": "ipython3",
   "version": "3.6.6"
  }
 },
 "nbformat": 4,
 "nbformat_minor": 2
}
